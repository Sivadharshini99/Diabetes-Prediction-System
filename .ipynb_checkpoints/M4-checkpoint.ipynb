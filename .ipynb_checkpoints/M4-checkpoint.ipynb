{
 "cells": [
  {
   "cell_type": "markdown",
   "id": "b7999a30",
   "metadata": {},
   "source": [
    "   # IMPLEMENTING RANDOM FOREST ALGORITHM"
   ]
  },
  {
   "cell_type": "code",
   "execution_count": 1,
   "id": "8c07288b",
   "metadata": {},
   "outputs": [],
   "source": [
    "#import library packages\n",
    "import pandas as pd"
   ]
  },
  {
   "cell_type": "code",
   "execution_count": 2,
   "id": "84f23140",
   "metadata": {},
   "outputs": [],
   "source": [
    "import warnings\n",
    "warnings.filterwarnings('ignore')"
   ]
  },
  {
   "cell_type": "code",
   "execution_count": 3,
   "id": "9427240e",
   "metadata": {},
   "outputs": [],
   "source": [
    "# Load given dataset\n",
    "data = pd.read_csv(\"data.csv\")"
   ]
  },
  {
   "cell_type": "code",
   "execution_count": 4,
   "id": "3cdbc0db",
   "metadata": {},
   "outputs": [],
   "source": [
    "df = data.dropna()"
   ]
  },
  {
   "cell_type": "code",
   "execution_count": 5,
   "id": "a5ca5702",
   "metadata": {},
   "outputs": [],
   "source": [
    "del df['sl_no']\n",
    "del df['patient_number']\n",
    "del df['chol_hdl_ratio']\n",
    "del df['height']\n",
    "del df['weight']\n",
    "del df['waist']\n",
    "del df['hip']"
   ]
  },
  {
   "cell_type": "code",
   "execution_count": 6,
   "id": "bf7284f5",
   "metadata": {},
   "outputs": [
    {
     "data": {
      "text/plain": [
       "Index(['cholesterol', 'glucose', 'hdl_chol', 'age', 'gender', 'bmi',\n",
       "       'systolic_bp', 'diastolic_bp', 'waist_hip_ratio', 'diabetes'],\n",
       "      dtype='object')"
      ]
     },
     "execution_count": 6,
     "metadata": {},
     "output_type": "execute_result"
    }
   ],
   "source": [
    "df.columns"
   ]
  },
  {
   "cell_type": "code",
   "execution_count": 7,
   "id": "a757a35a",
   "metadata": {},
   "outputs": [
    {
     "data": {
      "text/html": [
       "<div>\n",
       "<style scoped>\n",
       "    .dataframe tbody tr th:only-of-type {\n",
       "        vertical-align: middle;\n",
       "    }\n",
       "\n",
       "    .dataframe tbody tr th {\n",
       "        vertical-align: top;\n",
       "    }\n",
       "\n",
       "    .dataframe thead th {\n",
       "        text-align: right;\n",
       "    }\n",
       "</style>\n",
       "<table border=\"1\" class=\"dataframe\">\n",
       "  <thead>\n",
       "    <tr style=\"text-align: right;\">\n",
       "      <th></th>\n",
       "      <th>cholesterol</th>\n",
       "      <th>glucose</th>\n",
       "      <th>hdl_chol</th>\n",
       "      <th>age</th>\n",
       "      <th>gender</th>\n",
       "      <th>bmi</th>\n",
       "      <th>systolic_bp</th>\n",
       "      <th>diastolic_bp</th>\n",
       "      <th>waist_hip_ratio</th>\n",
       "      <th>diabetes</th>\n",
       "    </tr>\n",
       "  </thead>\n",
       "  <tbody>\n",
       "    <tr>\n",
       "      <th>0</th>\n",
       "      <td>193</td>\n",
       "      <td>77</td>\n",
       "      <td>49</td>\n",
       "      <td>19</td>\n",
       "      <td>female</td>\n",
       "      <td>22.5</td>\n",
       "      <td>118</td>\n",
       "      <td>70</td>\n",
       "      <td>0.84</td>\n",
       "      <td>No diabetes</td>\n",
       "    </tr>\n",
       "    <tr>\n",
       "      <th>1</th>\n",
       "      <td>146</td>\n",
       "      <td>79</td>\n",
       "      <td>41</td>\n",
       "      <td>19</td>\n",
       "      <td>female</td>\n",
       "      <td>26.4</td>\n",
       "      <td>108</td>\n",
       "      <td>58</td>\n",
       "      <td>0.83</td>\n",
       "      <td>No diabetes</td>\n",
       "    </tr>\n",
       "    <tr>\n",
       "      <th>2</th>\n",
       "      <td>217</td>\n",
       "      <td>75</td>\n",
       "      <td>54</td>\n",
       "      <td>20</td>\n",
       "      <td>female</td>\n",
       "      <td>29.3</td>\n",
       "      <td>110</td>\n",
       "      <td>72</td>\n",
       "      <td>0.89</td>\n",
       "      <td>No diabetes</td>\n",
       "    </tr>\n",
       "    <tr>\n",
       "      <th>3</th>\n",
       "      <td>226</td>\n",
       "      <td>97</td>\n",
       "      <td>70</td>\n",
       "      <td>20</td>\n",
       "      <td>female</td>\n",
       "      <td>19.6</td>\n",
       "      <td>122</td>\n",
       "      <td>64</td>\n",
       "      <td>0.79</td>\n",
       "      <td>No diabetes</td>\n",
       "    </tr>\n",
       "    <tr>\n",
       "      <th>4</th>\n",
       "      <td>164</td>\n",
       "      <td>91</td>\n",
       "      <td>67</td>\n",
       "      <td>20</td>\n",
       "      <td>female</td>\n",
       "      <td>20.2</td>\n",
       "      <td>122</td>\n",
       "      <td>86</td>\n",
       "      <td>0.82</td>\n",
       "      <td>No diabetes</td>\n",
       "    </tr>\n",
       "  </tbody>\n",
       "</table>\n",
       "</div>"
      ],
      "text/plain": [
       "   cholesterol  glucose  hdl_chol  age  gender   bmi  systolic_bp  \\\n",
       "0          193       77        49   19  female  22.5          118   \n",
       "1          146       79        41   19  female  26.4          108   \n",
       "2          217       75        54   20  female  29.3          110   \n",
       "3          226       97        70   20  female  19.6          122   \n",
       "4          164       91        67   20  female  20.2          122   \n",
       "\n",
       "   diastolic_bp  waist_hip_ratio     diabetes  \n",
       "0            70             0.84  No diabetes  \n",
       "1            58             0.83  No diabetes  \n",
       "2            72             0.89  No diabetes  \n",
       "3            64             0.79  No diabetes  \n",
       "4            86             0.82  No diabetes  "
      ]
     },
     "execution_count": 7,
     "metadata": {},
     "output_type": "execute_result"
    }
   ],
   "source": [
    "df.head()"
   ]
  },
  {
   "cell_type": "code",
   "execution_count": 8,
   "id": "8877698a",
   "metadata": {},
   "outputs": [],
   "source": [
    "from sklearn.preprocessing import LabelEncoder\n",
    "var_mod = ['gender','diabetes']\n",
    "le = LabelEncoder()\n",
    "for i in var_mod:\n",
    "    df[i] = le.fit_transform(df[i]).astype(int)"
   ]
  },
  {
   "cell_type": "code",
   "execution_count": 9,
   "id": "2fb7f597",
   "metadata": {},
   "outputs": [
    {
     "data": {
      "text/html": [
       "<div>\n",
       "<style scoped>\n",
       "    .dataframe tbody tr th:only-of-type {\n",
       "        vertical-align: middle;\n",
       "    }\n",
       "\n",
       "    .dataframe tbody tr th {\n",
       "        vertical-align: top;\n",
       "    }\n",
       "\n",
       "    .dataframe thead th {\n",
       "        text-align: right;\n",
       "    }\n",
       "</style>\n",
       "<table border=\"1\" class=\"dataframe\">\n",
       "  <thead>\n",
       "    <tr style=\"text-align: right;\">\n",
       "      <th></th>\n",
       "      <th>cholesterol</th>\n",
       "      <th>glucose</th>\n",
       "      <th>hdl_chol</th>\n",
       "      <th>age</th>\n",
       "      <th>gender</th>\n",
       "      <th>bmi</th>\n",
       "      <th>systolic_bp</th>\n",
       "      <th>diastolic_bp</th>\n",
       "      <th>waist_hip_ratio</th>\n",
       "      <th>diabetes</th>\n",
       "    </tr>\n",
       "  </thead>\n",
       "  <tbody>\n",
       "    <tr>\n",
       "      <th>0</th>\n",
       "      <td>193</td>\n",
       "      <td>77</td>\n",
       "      <td>49</td>\n",
       "      <td>19</td>\n",
       "      <td>0</td>\n",
       "      <td>22.5</td>\n",
       "      <td>118</td>\n",
       "      <td>70</td>\n",
       "      <td>0.84</td>\n",
       "      <td>1</td>\n",
       "    </tr>\n",
       "    <tr>\n",
       "      <th>1</th>\n",
       "      <td>146</td>\n",
       "      <td>79</td>\n",
       "      <td>41</td>\n",
       "      <td>19</td>\n",
       "      <td>0</td>\n",
       "      <td>26.4</td>\n",
       "      <td>108</td>\n",
       "      <td>58</td>\n",
       "      <td>0.83</td>\n",
       "      <td>1</td>\n",
       "    </tr>\n",
       "    <tr>\n",
       "      <th>2</th>\n",
       "      <td>217</td>\n",
       "      <td>75</td>\n",
       "      <td>54</td>\n",
       "      <td>20</td>\n",
       "      <td>0</td>\n",
       "      <td>29.3</td>\n",
       "      <td>110</td>\n",
       "      <td>72</td>\n",
       "      <td>0.89</td>\n",
       "      <td>1</td>\n",
       "    </tr>\n",
       "    <tr>\n",
       "      <th>3</th>\n",
       "      <td>226</td>\n",
       "      <td>97</td>\n",
       "      <td>70</td>\n",
       "      <td>20</td>\n",
       "      <td>0</td>\n",
       "      <td>19.6</td>\n",
       "      <td>122</td>\n",
       "      <td>64</td>\n",
       "      <td>0.79</td>\n",
       "      <td>1</td>\n",
       "    </tr>\n",
       "    <tr>\n",
       "      <th>4</th>\n",
       "      <td>164</td>\n",
       "      <td>91</td>\n",
       "      <td>67</td>\n",
       "      <td>20</td>\n",
       "      <td>0</td>\n",
       "      <td>20.2</td>\n",
       "      <td>122</td>\n",
       "      <td>86</td>\n",
       "      <td>0.82</td>\n",
       "      <td>1</td>\n",
       "    </tr>\n",
       "  </tbody>\n",
       "</table>\n",
       "</div>"
      ],
      "text/plain": [
       "   cholesterol  glucose  hdl_chol  age  gender   bmi  systolic_bp  \\\n",
       "0          193       77        49   19       0  22.5          118   \n",
       "1          146       79        41   19       0  26.4          108   \n",
       "2          217       75        54   20       0  29.3          110   \n",
       "3          226       97        70   20       0  19.6          122   \n",
       "4          164       91        67   20       0  20.2          122   \n",
       "\n",
       "   diastolic_bp  waist_hip_ratio  diabetes  \n",
       "0            70             0.84         1  \n",
       "1            58             0.83         1  \n",
       "2            72             0.89         1  \n",
       "3            64             0.79         1  \n",
       "4            86             0.82         1  "
      ]
     },
     "execution_count": 9,
     "metadata": {},
     "output_type": "execute_result"
    }
   ],
   "source": [
    "df.head()"
   ]
  },
  {
   "cell_type": "code",
   "execution_count": 10,
   "id": "df92d60c",
   "metadata": {},
   "outputs": [],
   "source": [
    "#preprocessing, split test and dataset, split response variable\n",
    "X = df.drop(labels='diabetes', axis=1)\n",
    "#Response variable\n",
    "y = df.loc[:,'diabetes']  "
   ]
  },
  {
   "cell_type": "code",
   "execution_count": 11,
   "id": "31511586",
   "metadata": {},
   "outputs": [
    {
     "name": "stdout",
     "output_type": "stream",
     "text": [
      "Number of training dataset:  546\n",
      "Number of test dataset:  234\n",
      "Total number of dataset:  780\n"
     ]
    }
   ],
   "source": [
    "#Splitting for train and test\n",
    "from sklearn.model_selection import train_test_split\n",
    "X_train, X_test, y_train, y_test = train_test_split(X, y, test_size=0.30, random_state=42, stratify=y)\n",
    "print(\"Number of training dataset: \", len(X_train))\n",
    "print(\"Number of test dataset: \", len(X_test))\n",
    "print(\"Total number of dataset: \", len(X_train)+len(X_test))"
   ]
  },
  {
   "cell_type": "markdown",
   "id": "0bd7d3fd",
   "metadata": {},
   "source": [
    "##### Implementing RandomForestClassifier Algo"
   ]
  },
  {
   "cell_type": "code",
   "execution_count": 12,
   "id": "8eb87c8b",
   "metadata": {},
   "outputs": [],
   "source": [
    "from sklearn.ensemble import RandomForestClassifier\n",
    "from sklearn.metrics import confusion_matrix, classification_report, accuracy_score, plot_confusion_matrix"
   ]
  },
  {
   "cell_type": "markdown",
   "id": "d4c1ba23",
   "metadata": {},
   "source": [
    "Training"
   ]
  },
  {
   "cell_type": "code",
   "execution_count": 13,
   "id": "2b0da3e3",
   "metadata": {},
   "outputs": [],
   "source": [
    "rf = RandomForestClassifier()\n",
    "rf.fit(X_train,y_train)\n",
    "predicted = rf.predict(X_test)"
   ]
  },
  {
   "cell_type": "markdown",
   "id": "27505ada",
   "metadata": {},
   "source": [
    "Finding Accuracy"
   ]
  },
  {
   "cell_type": "code",
   "execution_count": 14,
   "id": "430e3190",
   "metadata": {},
   "outputs": [
    {
     "name": "stdout",
     "output_type": "stream",
     "text": [
      "Accuracy of RandomForestClassifier 97.43589743589743\n"
     ]
    }
   ],
   "source": [
    "accuracy = accuracy_score(y_test,predicted)\n",
    "print('Accuracy of RandomForestClassifier',accuracy*100)"
   ]
  },
  {
   "cell_type": "markdown",
   "id": "d0b81989",
   "metadata": {},
   "source": [
    "Finding Clasiification Report"
   ]
  },
  {
   "cell_type": "code",
   "execution_count": 15,
   "id": "0ab598f2",
   "metadata": {},
   "outputs": [
    {
     "name": "stdout",
     "output_type": "stream",
     "text": [
      "Classification report\n",
      "\n",
      "               precision    recall  f1-score   support\n",
      "\n",
      "           0       0.94      0.89      0.91        36\n",
      "           1       0.98      0.99      0.98       198\n",
      "\n",
      "    accuracy                           0.97       234\n",
      "   macro avg       0.96      0.94      0.95       234\n",
      "weighted avg       0.97      0.97      0.97       234\n",
      "\n"
     ]
    }
   ],
   "source": [
    "cr = classification_report(y_test,predicted)\n",
    "print('Classification report\\n\\n',cr)"
   ]
  },
  {
   "cell_type": "markdown",
   "id": "8518a3bb",
   "metadata": {},
   "source": [
    "Finding Confusion matrix"
   ]
  },
  {
   "cell_type": "code",
   "execution_count": 16,
   "id": "4f546c45",
   "metadata": {},
   "outputs": [
    {
     "name": "stdout",
     "output_type": "stream",
     "text": [
      "Confusion matrix\n",
      "\n",
      " [[ 32   4]\n",
      " [  2 196]]\n"
     ]
    }
   ],
   "source": [
    "cm = confusion_matrix(y_test,predicted)\n",
    "print('Confusion matrix\\n\\n',cm)"
   ]
  },
  {
   "cell_type": "code",
   "execution_count": 17,
   "id": "ecc8af44",
   "metadata": {
    "scrolled": false
   },
   "outputs": [
    {
     "data": {
      "image/png": "[encoded data removed]",
      "text/plain": [
       "<Figure size 720x720 with 2 Axes>"
      ]
     },
     "metadata": {
      "needs_background": "light"
     },
     "output_type": "display_data"
    }
   ],
   "source": [
    "import matplotlib.pyplot as plt\n",
    "fig, ax = plt.subplots(figsize=(10,10))\n",
    "plot_confusion_matrix(rf, X_test, y_test, ax=ax)\n",
    "plt.title('Confusion matrix of RandomForestClassifier')\n",
    "plt.show()"
   ]
  },
  {
   "cell_type": "code",
   "execution_count": 18,
   "id": "2e9b61b6",
   "metadata": {},
   "outputs": [
    {
     "data": {
      "image/png": "[encoded data removed]",
      "text/plain": [
       "<Figure size 1440x360 with 1 Axes>"
      ]
     },
     "metadata": {
      "needs_background": "light"
     },
     "output_type": "display_data"
    }
   ],
   "source": [
    "df2 = pd.DataFrame()\n",
    "df2[\"y_test\"] = y_test\n",
    "df2[\"predicted\"] = predicted\n",
    "df2.reset_index(inplace=True)\n",
    "plt.figure(figsize=(20, 5))\n",
    "plt.plot(df2[\"predicted\"][:100], marker='x', linestyle='dotted', color='red')\n",
    "plt.plot(df2[\"y_test\"][:100],  marker='o', linestyle='dotted', color='green')\n",
    "plt.show()"
   ]
  },
  {
   "cell_type": "code",
   "execution_count": 19,
   "id": "37c5245a",
   "metadata": {},
   "outputs": [
    {
     "data": {
      "text/plain": [
       "['RF.pkl']"
      ]
     },
     "execution_count": 19,
     "metadata": {},
     "output_type": "execute_result"
    }
   ],
   "source": [
    "from joblib import dump\n",
    "dump(rf, 'RF.pkl')"
   ]
  },
  {
   "cell_type": "code",
   "execution_count": null,
   "id": "c044b211",
   "metadata": {},
   "outputs": [],
   "source": []
  }
 ],
 "metadata": {
  "kernelspec": {
   "display_name": "Python 3 (ipykernel)",
   "language": "python",
   "name": "python3"
  },
  "language_info": {
   "codemirror_mode": {
    "name": "ipython",
    "version": 3
   },
   "file_extension": ".py",
   "mimetype": "text/x-python",
   "name": "python",
   "nbconvert_exporter": "python",
   "pygments_lexer": "ipython3",
   "version": "3.9.7"
  }
 },
 "nbformat": 4,
 "nbformat_minor": 5
}
